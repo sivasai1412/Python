{
  "nbformat": 4,
  "nbformat_minor": 0,
  "metadata": {
    "colab": {
      "name": "program.ipynb",
      "provenance": [],
      "include_colab_link": true
    },
    "kernelspec": {
      "name": "python3",
      "display_name": "Python 3"
    }
  },
  "cells": [
    {
      "cell_type": "markdown",
      "metadata": {
        "id": "view-in-github",
        "colab_type": "text"
      },
      "source": [
        "<a href=\"https://colab.research.google.com/github/sivasai1412/Python/blob/master/program.ipynb\" target=\"_parent\"><img src=\"https://colab.research.google.com/assets/colab-badge.svg\" alt=\"Open In Colab\"/></a>"
      ]
    },
    {
      "cell_type": "code",
      "metadata": {
        "id": "t6Juctk4HFd9",
        "colab_type": "code",
        "colab": {
          "base_uri": "https://localhost:8080/",
          "height": 34
        },
        "outputId": "5a0c5df8-8075-4b02-a8b3-ae06401df243"
      },
      "source": [
        "def reve(n):\n",
        "  temp=n\n",
        "  rev=0\n",
        "  while n>0:\n",
        "    r=n%10\n",
        "    rev=rev*10+r\n",
        "    n=n//10\n",
        "  return rev\n",
        "\n",
        "def rn(x):\n",
        "  y=x\n",
        "  re=0\n",
        "  while x>0:\n",
        "    re=reve(x)\n",
        "    if y==re:\n",
        "      print(x,\"yes\")\n",
        "      break\n",
        "    else:\n",
        "      if x>0:\n",
        "        x=x+re\n",
        "        if x==reve(x):\n",
        "          return x        \n",
        "xyz=rn(750)\n",
        "abc=rn(2650)\n",
        "qwerty=rn(195)\n",
        "if xyz>abc and xyz>qwerty:\n",
        "  print(\"xyz\",xyz)\n",
        "elif abc>qwerty and abc>xyz:\n",
        "  print(\"abc\",abc)\n",
        "else:\n",
        "  print(\"qwerty\",qwerty)"
      ],
      "execution_count": 1,
      "outputs": [
        {
          "output_type": "stream",
          "text": [
            "qwerty 9339\n"
          ],
          "name": "stdout"
        }
      ]
    },
    {
      "cell_type": "code",
      "metadata": {
        "id": "ktTZF0QGHPHg",
        "colab_type": "code",
        "colab": {}
      },
      "source": [
        ""
      ],
      "execution_count": 0,
      "outputs": []
    }
  ]
}