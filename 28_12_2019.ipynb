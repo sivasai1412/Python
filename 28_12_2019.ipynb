{
  "nbformat": 4,
  "nbformat_minor": 0,
  "metadata": {
    "colab": {
      "name": "28-12-2019.ipynb",
      "provenance": [],
      "include_colab_link": true
    },
    "kernelspec": {
      "name": "python3",
      "display_name": "Python 3"
    }
  },
  "cells": [
    {
      "cell_type": "markdown",
      "metadata": {
        "id": "view-in-github",
        "colab_type": "text"
      },
      "source": [
        "<a href=\"https://colab.research.google.com/github/sivasai1412/Python/blob/master/28_12_2019.ipynb\" target=\"_parent\"><img src=\"https://colab.research.google.com/assets/colab-badge.svg\" alt=\"Open In Colab\"/></a>"
      ]
    },
    {
      "cell_type": "code",
      "metadata": {
        "id": "pMsaio_HneUV",
        "colab_type": "code",
        "colab": {
          "base_uri": "https://localhost:8080/",
          "height": 67
        },
        "outputId": "ff911f5b-74a9-4ee9-8fa8-9badfc0ee174"
      },
      "source": [
        "str=\"pynative\"\n",
        "print(str.split())\n",
        "li=list(str)\n",
        "print(li)\n",
        "print(li[::2])"
      ],
      "execution_count": 9,
      "outputs": [
        {
          "output_type": "stream",
          "text": [
            "['pynative']\n",
            "['p', 'y', 'n', 'a', 't', 'i', 'v', 'e']\n",
            "['p', 'n', 't', 'v']\n"
          ],
          "name": "stdout"
        }
      ]
    },
    {
      "cell_type": "code",
      "metadata": {
        "id": "_CYSOFHOoVyZ",
        "colab_type": "code",
        "colab": {
          "base_uri": "https://localhost:8080/",
          "height": 50
        },
        "outputId": "12b4c2e8-4b92-4880-f7f0-1b67e13ffce4"
      },
      "source": [
        "li=[1,2,3,4,5,6,7,1]\n",
        "print(li[::-1])\n",
        "if li[0]==li[-1]:\n",
        "  print(\"true\")\n",
        "else:\n",
        "  print(\"false\")"
      ],
      "execution_count": 12,
      "outputs": [
        {
          "output_type": "stream",
          "text": [
            "[1, 7, 6, 5, 4, 3, 2, 1]\n",
            "true\n"
          ],
          "name": "stdout"
        }
      ]
    },
    {
      "cell_type": "code",
      "metadata": {
        "id": "Y5BCcX23qKDp",
        "colab_type": "code",
        "colab": {
          "base_uri": "https://localhost:8080/",
          "height": 185
        },
        "outputId": "9aba543c-aad9-4725-b419-2b5561276bdb"
      },
      "source": [
        "n=5\n",
        "for i in range(1,n+1):\n",
        "  for j in range(0,i):\n",
        "    print(i,end=\" \")\n",
        "  print(\"\\n\")"
      ],
      "execution_count": 32,
      "outputs": [
        {
          "output_type": "stream",
          "text": [
            "1 \n",
            "\n",
            "2 2 \n",
            "\n",
            "3 3 3 \n",
            "\n",
            "4 4 4 4 \n",
            "\n",
            "5 5 5 5 5 \n",
            "\n"
          ],
          "name": "stdout"
        }
      ]
    },
    {
      "cell_type": "code",
      "metadata": {
        "id": "FA5uhYYSqpA2",
        "colab_type": "code",
        "colab": {
          "base_uri": "https://localhost:8080/",
          "height": 67
        },
        "outputId": "e9548abc-6bcd-447e-ff7b-1798593c5dc8"
      },
      "source": [
        "name=int(input(\"enter your name\"))\n",
        "age=int(input(\"enter the age\"))\n",
        "age=name-age\n",
        "age=age+100\n",
        "print(name,\"will be 100 years old in the \",age)"
      ],
      "execution_count": 34,
      "outputs": [
        {
          "output_type": "stream",
          "text": [
            "enter your name2014\n",
            "enter the age25\n",
            "2014 will be 100 years old in the  2089\n"
          ],
          "name": "stdout"
        }
      ]
    },
    {
      "cell_type": "code",
      "metadata": {
        "id": "v-S_awBfsSDH",
        "colab_type": "code",
        "colab": {}
      },
      "source": [
        ""
      ],
      "execution_count": 0,
      "outputs": []
    }
  ]
}