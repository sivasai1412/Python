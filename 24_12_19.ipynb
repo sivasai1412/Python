{
  "nbformat": 4,
  "nbformat_minor": 0,
  "metadata": {
    "colab": {
      "name": "24-12-19.ipynb",
      "provenance": [],
      "collapsed_sections": [],
      "include_colab_link": true
    },
    "kernelspec": {
      "name": "python3",
      "display_name": "Python 3"
    }
  },
  "cells": [
    {
      "cell_type": "markdown",
      "metadata": {
        "id": "view-in-github",
        "colab_type": "text"
      },
      "source": [
        "<a href=\"https://colab.research.google.com/github/sivasai1412/Python/blob/master/24_12_19.ipynb\" target=\"_parent\"><img src=\"https://colab.research.google.com/assets/colab-badge.svg\" alt=\"Open In Colab\"/></a>"
      ]
    },
    {
      "cell_type": "markdown",
      "metadata": {
        "id": "g0SLqFSlDgd8",
        "colab_type": "text"
      },
      "source": [
        "# Markdown\n",
        "## Markdown\n",
        "### Markdown\n",
        "#### Markdown\n",
        "##### Markdown"
      ]
    },
    {
      "cell_type": "code",
      "metadata": {
        "id": "SPiYHbtkcCHz",
        "colab_type": "code",
        "colab": {}
      },
      "source": [
        ""
      ],
      "execution_count": 0,
      "outputs": []
    },
    {
      "cell_type": "markdown",
      "metadata": {
        "id": "fsayho5MGuC-",
        "colab_type": "text"
      },
      "source": [
        "*python*\n",
        "**python**"
      ]
    },
    {
      "cell_type": "markdown",
      "metadata": {
        "id": "37wrMPB8G2lk",
        "colab_type": "text"
      },
      "source": [
        "## Insert the image\n",
        "![text](https://images.pexels.com/photos/414612/pexels-photo-414612.jpeg?auto=compress&cs=tinysrgb&dpr=1&w=500)"
      ]
    },
    {
      "cell_type": "markdown",
      "metadata": {
        "id": "TTO0o60YHsy0",
        "colab_type": "text"
      },
      "source": [
        "# Insert site\n",
        "[site](https://colab.research.google.com/notebooks/welcome.ipynb#recent=true)"
      ]
    },
    {
      "cell_type": "markdown",
      "metadata": {
        "id": "ni8eBclDItOz",
        "colab_type": "text"
      },
      "source": [
        "# Python\n",
        "- It is easy to learn\n",
        "- python is more popular and demand\n",
        "- python has so many libraries and frameworks\n",
        "- python used in datascience\n"
      ]
    },
    {
      "cell_type": "code",
      "metadata": {
        "id": "wkNZ6j9BJv88",
        "colab_type": "code",
        "outputId": "751f40f5-dac0-41a5-9c26-9dfaf3080517",
        "colab": {
          "base_uri": "https://localhost:8080/",
          "height": 34
        }
      },
      "source": [
        "print(\"hello python\")\n"
      ],
      "execution_count": 0,
      "outputs": [
        {
          "output_type": "stream",
          "text": [
            "hello python\n"
          ],
          "name": "stdout"
        }
      ]
    },
    {
      "cell_type": "code",
      "metadata": {
        "id": "zfM3CjwgK6k1",
        "colab_type": "code",
        "outputId": "f1d55e79-8b82-4a59-b192-61aa1a150e1d",
        "colab": {
          "base_uri": "https://localhost:8080/",
          "height": 34
        }
      },
      "source": [
        "print('hello')"
      ],
      "execution_count": 0,
      "outputs": [
        {
          "output_type": "stream",
          "text": [
            "hello\n"
          ],
          "name": "stdout"
        }
      ]
    },
    {
      "cell_type": "markdown",
      "metadata": {
        "id": "4MQhqEL3LaPc",
        "colab_type": "text"
      },
      "source": [
        "# Assignment"
      ]
    },
    {
      "cell_type": "code",
      "metadata": {
        "id": "LA18MQz8LeiN",
        "colab_type": "code",
        "outputId": "9e82fa2b-9788-4d4a-aecd-c6ef88966d0a",
        "colab": {
          "base_uri": "https://localhost:8080/",
          "height": 34
        }
      },
      "source": [
        "x=6\n",
        "y=9\n",
        "print(x,y)"
      ],
      "execution_count": 0,
      "outputs": [
        {
          "output_type": "stream",
          "text": [
            "6 9\n"
          ],
          "name": "stdout"
        }
      ]
    },
    {
      "cell_type": "code",
      "metadata": {
        "id": "l4z3xvRmLmGE",
        "colab_type": "code",
        "outputId": "d6e1553a-6ac8-47a3-d7a5-01d952507bdb",
        "colab": {
          "base_uri": "https://localhost:8080/",
          "height": 34
        }
      },
      "source": [
        "x=6\n",
        "y=9\n",
        "print(x+y)"
      ],
      "execution_count": 0,
      "outputs": [
        {
          "output_type": "stream",
          "text": [
            "15\n"
          ],
          "name": "stdout"
        }
      ]
    },
    {
      "cell_type": "code",
      "metadata": {
        "id": "6l1GFI96Lri0",
        "colab_type": "code",
        "outputId": "c50908f8-6a1c-4fe9-f739-a924fd71af5f",
        "colab": {
          "base_uri": "https://localhost:8080/",
          "height": 34
        }
      },
      "source": [
        "a=b=c=d=20\n",
        "print(a+b+c+d)"
      ],
      "execution_count": 0,
      "outputs": [
        {
          "output_type": "stream",
          "text": [
            "80\n"
          ],
          "name": "stdout"
        }
      ]
    },
    {
      "cell_type": "code",
      "metadata": {
        "id": "fAmUIANoMPoS",
        "colab_type": "code",
        "outputId": "c8fa9a82-04f7-42cb-8581-cbaf8ce7461d",
        "colab": {
          "base_uri": "https://localhost:8080/",
          "height": 34
        }
      },
      "source": [
        "a=b=20\n",
        "print(a,b)"
      ],
      "execution_count": 0,
      "outputs": [
        {
          "output_type": "stream",
          "text": [
            "20 20\n"
          ],
          "name": "stdout"
        }
      ]
    },
    {
      "cell_type": "code",
      "metadata": {
        "id": "b5XG3yN3MTeT",
        "colab_type": "code",
        "outputId": "13ee2788-c494-409c-c8f0-a642b8060e59",
        "colab": {
          "base_uri": "https://localhost:8080/",
          "height": 34
        }
      },
      "source": [
        "a1,b1,c1=100,200,300\n",
        "print(a1,b1,c1)"
      ],
      "execution_count": 0,
      "outputs": [
        {
          "output_type": "stream",
          "text": [
            "100 200 300\n"
          ],
          "name": "stdout"
        }
      ]
    },
    {
      "cell_type": "code",
      "metadata": {
        "id": "tvPg9a2-MoGU",
        "colab_type": "code",
        "outputId": "f0d30109-0d05-48e8-acb2-e999623cb5b9",
        "colab": {
          "base_uri": "https://localhost:8080/",
          "height": 34
        }
      },
      "source": [
        "a,b=40,1\n",
        "print(a,b)"
      ],
      "execution_count": 0,
      "outputs": [
        {
          "output_type": "stream",
          "text": [
            "40 1\n"
          ],
          "name": "stdout"
        }
      ]
    },
    {
      "cell_type": "code",
      "metadata": {
        "id": "vAwr6M5IMyAk",
        "colab_type": "code",
        "outputId": "03da0cb5-8265-4c4f-dbff-6d96bbcce789",
        "colab": {
          "base_uri": "https://localhost:8080/",
          "height": 34
        }
      },
      "source": [
        "a,b=1,2\n",
        "print(a+b)"
      ],
      "execution_count": 0,
      "outputs": [
        {
          "output_type": "stream",
          "text": [
            "3\n"
          ],
          "name": "stdout"
        }
      ]
    },
    {
      "cell_type": "markdown",
      "metadata": {
        "id": "G52J6MkqM6FV",
        "colab_type": "text"
      },
      "source": [
        "# Datatypes and conversions\n",
        "- int\n",
        "- string\n",
        "- float\n",
        "- complex\n",
        "- boolean"
      ]
    },
    {
      "cell_type": "code",
      "metadata": {
        "id": "qhtsh4RgNHrN",
        "colab_type": "code",
        "outputId": "8b17ccb3-0961-4c3a-ffd7-aef7d3f35c4a",
        "colab": {
          "base_uri": "https://localhost:8080/",
          "height": 67
        }
      },
      "source": [
        "x=10\n",
        "y=12.57\n",
        "z=3+5j\n",
        "print(type(z))\n",
        "print(type(y))  \n",
        "print(type(x))"
      ],
      "execution_count": 0,
      "outputs": [
        {
          "output_type": "stream",
          "text": [
            "<class 'complex'>\n",
            "<class 'float'>\n",
            "<class 'int'>\n"
          ],
          "name": "stdout"
        }
      ]
    },
    {
      "cell_type": "code",
      "metadata": {
        "id": "ymiM60xyNlHD",
        "colab_type": "code",
        "outputId": "80caa93c-9aac-4eea-9555-733a47e27416",
        "colab": {
          "base_uri": "https://localhost:8080/",
          "height": 34
        }
      },
      "source": [
        "x=4\n",
        "y=7\n",
        "x<y"
      ],
      "execution_count": 0,
      "outputs": [
        {
          "output_type": "execute_result",
          "data": {
            "text/plain": [
              "True"
            ]
          },
          "metadata": {
            "tags": []
          },
          "execution_count": 15
        }
      ]
    },
    {
      "cell_type": "code",
      "metadata": {
        "id": "6nwVXvtyOelU",
        "colab_type": "code",
        "outputId": "6e220724-e1f6-4e56-e32d-4b8f53b9bcf0",
        "colab": {
          "base_uri": "https://localhost:8080/",
          "height": 34
        }
      },
      "source": [
        "x='shiva'\n",
        "print(type(x))"
      ],
      "execution_count": 0,
      "outputs": [
        {
          "output_type": "stream",
          "text": [
            "<class 'str'>\n"
          ],
          "name": "stdout"
        }
      ]
    },
    {
      "cell_type": "code",
      "metadata": {
        "id": "5WRIDsv8Oklk",
        "colab_type": "code",
        "outputId": "9151fd77-2dc2-44c7-bbfa-538e43959729",
        "colab": {
          "base_uri": "https://localhost:8080/",
          "height": 34
        }
      },
      "source": [
        "s1='124'\n",
        "print(type(s1))"
      ],
      "execution_count": 0,
      "outputs": [
        {
          "output_type": "stream",
          "text": [
            "<class 'str'>\n"
          ],
          "name": "stdout"
        }
      ]
    },
    {
      "cell_type": "code",
      "metadata": {
        "id": "chH62-19PHgy",
        "colab_type": "code",
        "outputId": "c3686c77-d704-47c6-e101-f689f3af2024",
        "colab": {
          "base_uri": "https://localhost:8080/",
          "height": 67
        }
      },
      "source": [
        "i=100\n",
        "print(type(i))\n",
        "s1=str(i)\n",
        "print(type(s1))\n",
        "x=float(i)\n",
        "print(type(x))"
      ],
      "execution_count": 0,
      "outputs": [
        {
          "output_type": "stream",
          "text": [
            "<class 'int'>\n",
            "<class 'str'>\n",
            "<class 'float'>\n"
          ],
          "name": "stdout"
        }
      ]
    },
    {
      "cell_type": "code",
      "metadata": {
        "id": "0AJH-vOpP9F3",
        "colab_type": "code",
        "outputId": "d2b03029-219b-4356-c029-da1139662bc4",
        "colab": {
          "base_uri": "https://localhost:8080/",
          "height": 34
        }
      },
      "source": [
        "c=complex(3,5)\n",
        "print(c)"
      ],
      "execution_count": 0,
      "outputs": [
        {
          "output_type": "stream",
          "text": [
            "(3+5j)\n"
          ],
          "name": "stdout"
        }
      ]
    },
    {
      "cell_type": "markdown",
      "metadata": {
        "id": "XueMZpPeRDeE",
        "colab_type": "text"
      },
      "source": [
        "# Reading input from the user"
      ]
    },
    {
      "cell_type": "code",
      "metadata": {
        "id": "GrFxZa2BRJXl",
        "colab_type": "code",
        "outputId": "4b138688-9b75-4b67-9e22-3610a28fae46",
        "colab": {
          "base_uri": "https://localhost:8080/",
          "height": 67
        }
      },
      "source": [
        "x= int(input(\"enter the number\"))\n",
        "print(x)\n",
        "print(type(x))"
      ],
      "execution_count": 0,
      "outputs": [
        {
          "output_type": "stream",
          "text": [
            "enter the number3\n",
            "3\n",
            "<class 'int'>\n"
          ],
          "name": "stdout"
        }
      ]
    },
    {
      "cell_type": "code",
      "metadata": {
        "id": "qnduSDufRc5L",
        "colab_type": "code",
        "outputId": "f0b74a93-b5d3-428c-9ff0-39d92b2408de",
        "colab": {
          "base_uri": "https://localhost:8080/",
          "height": 67
        }
      },
      "source": [
        "x=input(\"enter the name\")\n",
        "print(x)\n",
        "print(type(x))"
      ],
      "execution_count": 0,
      "outputs": [
        {
          "output_type": "stream",
          "text": [
            "enter the nameshivasai\n",
            "shivasai\n",
            "<class 'str'>\n"
          ],
          "name": "stdout"
        }
      ]
    },
    {
      "cell_type": "markdown",
      "metadata": {
        "id": "6e5t0pj8Sb-9",
        "colab_type": "text"
      },
      "source": [
        "# operators\n",
        "- operator is a symbol used to perform a specific kind of operations\n"
      ]
    },
    {
      "cell_type": "markdown",
      "metadata": {
        "id": "biOjC3VNS599",
        "colab_type": "text"
      },
      "source": [
        "# Arithematic Operators\n",
        "- +\n",
        "- -\n",
        "- *\n",
        "- /\n",
        "- //\n",
        "- **\n",
        "- %"
      ]
    },
    {
      "cell_type": "code",
      "metadata": {
        "id": "CPIEPdBjTOnY",
        "colab_type": "code",
        "outputId": "632d9d89-104d-4d45-ff44-a606ecabafac",
        "colab": {
          "base_uri": "https://localhost:8080/",
          "height": 118
        }
      },
      "source": [
        "x=123\n",
        "print(x+10)\n",
        "print(x-10)\n",
        "print(x/10)\n",
        "print(x//10)\n",
        "print(x%10)\n",
        "print(x*10)"
      ],
      "execution_count": 0,
      "outputs": [
        {
          "output_type": "stream",
          "text": [
            "133\n",
            "113\n",
            "12.3\n",
            "12\n",
            "3\n",
            "1230\n"
          ],
          "name": "stdout"
        }
      ]
    },
    {
      "cell_type": "markdown",
      "metadata": {
        "id": "wvwiBLo_UO1-",
        "colab_type": "text"
      },
      "source": [
        "# precedence of arth Operators\n",
        "- parenthesis\n",
        "- power\n",
        "- Division\n",
        "- Multiplication\n",
        "- Addition\n"
      ]
    },
    {
      "cell_type": "code",
      "metadata": {
        "id": "O50pNTgMUf5V",
        "colab_type": "code",
        "outputId": "e7431f78-5db3-4ea2-89b7-79a021abeb0a",
        "colab": {
          "base_uri": "https://localhost:8080/",
          "height": 34
        }
      },
      "source": [
        "x=1+2**3/4+5\n",
        "print(x)"
      ],
      "execution_count": 0,
      "outputs": [
        {
          "output_type": "stream",
          "text": [
            "8.0\n"
          ],
          "name": "stdout"
        }
      ]
    },
    {
      "cell_type": "code",
      "metadata": {
        "id": "czcCr4Z5Up2z",
        "colab_type": "code",
        "outputId": "409fc438-4704-46eb-bf1b-ed1d003d7927",
        "colab": {
          "base_uri": "https://localhost:8080/",
          "height": 34
        }
      },
      "source": [
        "x=10/5\n",
        "print(x)"
      ],
      "execution_count": 0,
      "outputs": [
        {
          "output_type": "stream",
          "text": [
            "2.0\n"
          ],
          "name": "stdout"
        }
      ]
    },
    {
      "cell_type": "code",
      "metadata": {
        "id": "mw_O0RzQVAIS",
        "colab_type": "code",
        "outputId": "a143c7d4-ad4a-41c9-a990-ca9493ba451c",
        "colab": {
          "base_uri": "https://localhost:8080/",
          "height": 34
        }
      },
      "source": [
        "x=1+2**3/4*5\n",
        "print(x)"
      ],
      "execution_count": 0,
      "outputs": [
        {
          "output_type": "stream",
          "text": [
            "11.0\n"
          ],
          "name": "stdout"
        }
      ]
    },
    {
      "cell_type": "markdown",
      "metadata": {
        "id": "8iN7a_SKXBmW",
        "colab_type": "text"
      },
      "source": [
        "# Relational Operators\n",
        "- ==,!=,<,>,<=,>=\n"
      ]
    },
    {
      "cell_type": "code",
      "metadata": {
        "id": "jKH0Wa9RXf2W",
        "colab_type": "code",
        "outputId": "aa089308-c065-42bf-b25e-25ac30368731",
        "colab": {
          "base_uri": "https://localhost:8080/",
          "height": 34
        }
      },
      "source": [
        "a=10\n",
        "x=a>15\n",
        "print(x)"
      ],
      "execution_count": 0,
      "outputs": [
        {
          "output_type": "stream",
          "text": [
            "False\n"
          ],
          "name": "stdout"
        }
      ]
    },
    {
      "cell_type": "markdown",
      "metadata": {
        "id": "SvnzAveJX-0H",
        "colab_type": "text"
      },
      "source": [
        "# Logical Operators"
      ]
    },
    {
      "cell_type": "code",
      "metadata": {
        "id": "MulYD2K0YB82",
        "colab_type": "code",
        "outputId": "cedd7669-bc7f-4a4e-cdbb-13de55b55be9",
        "colab": {
          "base_uri": "https://localhost:8080/",
          "height": 84
        }
      },
      "source": [
        "x=20\n",
        "y=30\n",
        "print(x>=10 and x<=20)\n",
        "print(x>=10 or x<=20)\n",
        "print(not x)\n",
        "print(x<20 and y==30)"
      ],
      "execution_count": 0,
      "outputs": [
        {
          "output_type": "stream",
          "text": [
            "True\n",
            "True\n",
            "False\n",
            "False\n"
          ],
          "name": "stdout"
        }
      ]
    },
    {
      "cell_type": "markdown",
      "metadata": {
        "id": "46KXkimSZAfZ",
        "colab_type": "text"
      },
      "source": [
        "# Membership Operator\n",
        "- in\n",
        "- not in"
      ]
    },
    {
      "cell_type": "code",
      "metadata": {
        "id": "EIS9si7vZFPe",
        "colab_type": "code",
        "outputId": "50900285-a4c6-476a-f598-e388438b9d3d",
        "colab": {
          "base_uri": "https://localhost:8080/",
          "height": 50
        }
      },
      "source": [
        "s=\"abc\"\n",
        "print('a' in s)\n",
        "print('a' not in s)"
      ],
      "execution_count": 0,
      "outputs": [
        {
          "output_type": "stream",
          "text": [
            "True\n",
            "False\n"
          ],
          "name": "stdout"
        }
      ]
    },
    {
      "cell_type": "markdown",
      "metadata": {
        "id": "t-f5UWzrZwZd",
        "colab_type": "text"
      },
      "source": [
        "# Conditional Statements\n",
        "## If-else statements\n",
        "#### Syntax:\n",
        "##### if condition:\n",
        "> Statements <br>\n",
        "##### else:\n",
        "> Statements"
      ]
    },
    {
      "cell_type": "code",
      "metadata": {
        "id": "MxC3V-rLZV2D",
        "colab_type": "code",
        "outputId": "9e3798a8-2895-4506-8c1a-ec326ab709ce",
        "colab": {
          "base_uri": "https://localhost:8080/",
          "height": 34
        }
      },
      "source": [
        "x=10\n",
        "y=20\n",
        "if(x>y):\n",
        "  print(\"x is greater\")\n",
        "else:\n",
        "  print(\"y is greater\")"
      ],
      "execution_count": 0,
      "outputs": [
        {
          "output_type": "stream",
          "text": [
            "y is greater\n"
          ],
          "name": "stdout"
        }
      ]
    },
    {
      "cell_type": "code",
      "metadata": {
        "id": "D-pKz9Eaay8f",
        "colab_type": "code",
        "outputId": "684acf9b-6e72-4492-f9da-68748c323169",
        "colab": {
          "base_uri": "https://localhost:8080/",
          "height": 50
        }
      },
      "source": [
        "# even or odd\n",
        "x=int(input(\"enter the number\"))\n",
        "if x%2==0:\n",
        "  print(\"even\")\n",
        "else:\n",
        "  print(\"odd\")\n"
      ],
      "execution_count": 0,
      "outputs": [
        {
          "output_type": "stream",
          "text": [
            "enter the number3\n",
            "odd\n"
          ],
          "name": "stdout"
        }
      ]
    },
    {
      "cell_type": "code",
      "metadata": {
        "id": "LNVJsq3AbUaj",
        "colab_type": "code",
        "outputId": "02b54d44-8a32-496e-d457-96f5c755c4db",
        "colab": {
          "base_uri": "https://localhost:8080/",
          "height": 50
        }
      },
      "source": [
        "# check given number is multiple of 3 or 5\n",
        "x=int(input(\"enter the number\"))\n",
        "if (x%3==0):\n",
        "  print(\"multiple of 3\")\n",
        "elif (x%5==0):\n",
        "  print(\"multiple of 5\")\n",
        "else:\n",
        "  print(\"error\")"
      ],
      "execution_count": 0,
      "outputs": [
        {
          "output_type": "stream",
          "text": [
            "enter the number5\n",
            "multiple of 5\n"
          ],
          "name": "stdout"
        }
      ]
    },
    {
      "cell_type": "code",
      "metadata": {
        "id": "aC8YMBLXcV_1",
        "colab_type": "code",
        "outputId": "c69b8a3e-d065-484c-83c3-d701ce126526",
        "colab": {
          "base_uri": "https://localhost:8080/",
          "height": 50
        }
      },
      "source": [
        "# given number is perfectly multiple by 3 or 5\n",
        "x=int(input(\"enter the number\"))\n",
        "if x%3==0 and x%5==0:\n",
        "  print(\"multiple by 3 and 5\")\n",
        "else:\n",
        "  print(\"not multiple\")"
      ],
      "execution_count": 0,
      "outputs": [
        {
          "output_type": "stream",
          "text": [
            "enter the number25\n",
            "not multiple\n"
          ],
          "name": "stdout"
        }
      ]
    },
    {
      "cell_type": "code",
      "metadata": {
        "id": "jpWeSEDjcrND",
        "colab_type": "code",
        "outputId": "8afdd0dd-0e41-4eb3-8ae5-80eb495c2782",
        "colab": {
          "base_uri": "https://localhost:8080/",
          "height": 50
        }
      },
      "source": [
        "# check given number is +ve,-ve or 0\n",
        "x=int(input(\"enter the number\"))\n",
        "if(x>0):\n",
        "  print(\"+ve\")\n",
        "elif(x<0):\n",
        "  print(\"-ve\")\n",
        "else:\n",
        "  print(\"0\")"
      ],
      "execution_count": 0,
      "outputs": [
        {
          "output_type": "stream",
          "text": [
            "enter the number0\n",
            "0\n"
          ],
          "name": "stdout"
        }
      ]
    },
    {
      "cell_type": "code",
      "metadata": {
        "id": "woz60c1pdoRi",
        "colab_type": "code",
        "outputId": "3853b10a-d5a0-40e0-e266-12fbd60c663c",
        "colab": {
          "base_uri": "https://localhost:8080/",
          "height": 50
        }
      },
      "source": [
        "# given number is leap year or not\n",
        "x=int(input(\"enter the number\"))\n",
        "\n",
        "if x%400==0 or (x%4==0 and x%100!=0):\n",
        "  print(\"leap year\")\n",
        "else:\n",
        "  print(\"not leap year\")"
      ],
      "execution_count": 0,
      "outputs": [
        {
          "output_type": "stream",
          "text": [
            "enter the number1700\n",
            "not leap year\n"
          ],
          "name": "stdout"
        }
      ]
    },
    {
      "cell_type": "code",
      "metadata": {
        "id": "CxqJDHK0fGcj",
        "colab_type": "code",
        "colab": {}
      },
      "source": [
        ""
      ],
      "execution_count": 0,
      "outputs": []
    }
  ]
}