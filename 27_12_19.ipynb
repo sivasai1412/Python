{
  "nbformat": 4,
  "nbformat_minor": 0,
  "metadata": {
    "colab": {
      "name": "27-12-19.ipynb",
      "provenance": [],
      "include_colab_link": true
    },
    "kernelspec": {
      "name": "python3",
      "display_name": "Python 3"
    }
  },
  "cells": [
    {
      "cell_type": "markdown",
      "metadata": {
        "id": "view-in-github",
        "colab_type": "text"
      },
      "source": [
        "<a href=\"https://colab.research.google.com/github/sivasai1412/Python/blob/master/27_12_19.ipynb\" target=\"_parent\"><img src=\"https://colab.research.google.com/assets/colab-badge.svg\" alt=\"Open In Colab\"/></a>"
      ]
    },
    {
      "cell_type": "code",
      "metadata": {
        "id": "yeluHv_sax6p",
        "colab_type": "code",
        "outputId": "2546345b-2429-41de-ad14-cc93f8e8eb41",
        "colab": {
          "base_uri": "https://localhost:8080/",
          "height": 168
        }
      },
      "source": [
        "li=[\"gitam\",123,124,1323,1323,3451]\n",
        "print(li)\n",
        "print(type(li))\n",
        "print(li[1])\n",
        "print(li[2:])\n",
        "print(li[2:4])\n",
        "print(li[-1])\n",
        "print(li[-4:-1])\n",
        "print(li[::-1])\n",
        "print(li[-1::-1])"
      ],
      "execution_count": 0,
      "outputs": [
        {
          "output_type": "stream",
          "text": [
            "['gitam', 123, 124, 1323, 1323, 3451]\n",
            "<class 'list'>\n",
            "123\n",
            "[124, 1323, 1323, 3451]\n",
            "[124, 1323]\n",
            "3451\n",
            "[124, 1323, 1323]\n",
            "[3451, 1323, 1323, 124, 123, 'gitam']\n",
            "[3451, 1323, 1323, 124, 123, 'gitam']\n"
          ],
          "name": "stdout"
        }
      ]
    },
    {
      "cell_type": "code",
      "metadata": {
        "id": "W1saGjyYdTmx",
        "colab_type": "code",
        "outputId": "6b125cb9-4dd3-4e6e-9286-3a533dada6f8",
        "colab": {
          "base_uri": "https://localhost:8080/",
          "height": 34
        }
      },
      "source": [
        "# update\n",
        "li[0]=\"shiva\"\n",
        "print(li)\n"
      ],
      "execution_count": 0,
      "outputs": [
        {
          "output_type": "stream",
          "text": [
            "['shiva', 123, 124, 1323, 1323, 3451]\n"
          ],
          "name": "stdout"
        }
      ]
    },
    {
      "cell_type": "code",
      "metadata": {
        "id": "q9g9FDqBd1cc",
        "colab_type": "code",
        "outputId": "2daeab80-7024-43a0-f9ec-55d7f7857cd1",
        "colab": {
          "base_uri": "https://localhost:8080/",
          "height": 34
        }
      },
      "source": [
        "# delete\n",
        "del li[3]\n",
        "print(li)"
      ],
      "execution_count": 0,
      "outputs": [
        {
          "output_type": "stream",
          "text": [
            "['shiva', 123, 124, 1323, 3451]\n"
          ],
          "name": "stdout"
        }
      ]
    },
    {
      "cell_type": "code",
      "metadata": {
        "id": "2zw440IxfbYJ",
        "colab_type": "code",
        "outputId": "7ad6b8da-40e9-4a9f-87e6-a17c13f1811b",
        "colab": {
          "base_uri": "https://localhost:8080/",
          "height": 34
        }
      },
      "source": [
        "li=[1,22,33,4,55]\n",
        "print(\"length of the list is\",len(li))"
      ],
      "execution_count": 0,
      "outputs": [
        {
          "output_type": "stream",
          "text": [
            "length of the list is 5\n"
          ],
          "name": "stdout"
        }
      ]
    },
    {
      "cell_type": "code",
      "metadata": {
        "id": "2srHO3wBf7r5",
        "colab_type": "code",
        "outputId": "ad186f41-f5a3-4526-eac0-629ef7f35f56",
        "colab": {
          "base_uri": "https://localhost:8080/",
          "height": 67
        }
      },
      "source": [
        "print(li*2)\n",
        "print(22 in li)\n",
        "print(54 in li)"
      ],
      "execution_count": 0,
      "outputs": [
        {
          "output_type": "stream",
          "text": [
            "[1, 22, 33, 4, 55, 1, 22, 33, 4, 55]\n",
            "True\n",
            "False\n"
          ],
          "name": "stdout"
        }
      ]
    },
    {
      "cell_type": "markdown",
      "metadata": {
        "id": "Q_F2w9Hjgpkt",
        "colab_type": "text"
      },
      "source": [
        "# Basic list functions"
      ]
    },
    {
      "cell_type": "code",
      "metadata": {
        "id": "zLSz9zoIgvQm",
        "colab_type": "code",
        "outputId": "6ed9525b-6b62-4acb-8a37-07e1364271ef",
        "colab": {
          "base_uri": "https://localhost:8080/",
          "height": 84
        }
      },
      "source": [
        "li=[1,2,3,4,5]\n",
        "print(max(li))\n",
        "print(min(li))\n",
        "print(sum(li))\n",
        "print(sum(li)/len(li))# average"
      ],
      "execution_count": 0,
      "outputs": [
        {
          "output_type": "stream",
          "text": [
            "5\n",
            "1\n",
            "15\n",
            "3.0\n"
          ],
          "name": "stdout"
        }
      ]
    },
    {
      "cell_type": "code",
      "metadata": {
        "id": "A7ABnVa_g4qC",
        "colab_type": "code",
        "outputId": "91eaedac-1c69-4e94-e992-976f31c1089b",
        "colab": {
          "base_uri": "https://localhost:8080/",
          "height": 50
        }
      },
      "source": [
        "# append- add new item in the list\n",
        "li=[1,2,3,4,5,6]\n",
        "li.append(7)\n",
        "print(li)\n",
        "# insert- add the item in the middle of the list\n",
        "li.insert(2,10)\n",
        "print(li)"
      ],
      "execution_count": 0,
      "outputs": [
        {
          "output_type": "stream",
          "text": [
            "[1, 2, 3, 4, 5, 6, 7]\n",
            "[1, 2, 10, 3, 4, 5, 6, 7]\n"
          ],
          "name": "stdout"
        }
      ]
    },
    {
      "cell_type": "code",
      "metadata": {
        "id": "OgElPzUbiYbz",
        "colab_type": "code",
        "outputId": "9447e865-d055-49e0-c765-481fe41ab4d5",
        "colab": {
          "base_uri": "https://localhost:8080/",
          "height": 50
        }
      },
      "source": [
        "# sorting the list\n",
        "print(li) # normal list without sorting\n",
        "li.sort()\n",
        "print(li)"
      ],
      "execution_count": 0,
      "outputs": [
        {
          "output_type": "stream",
          "text": [
            "[1, 2, 10, 3, 4, 5, 6, 7]\n",
            "[1, 2, 3, 4, 5, 6, 7, 10]\n"
          ],
          "name": "stdout"
        }
      ]
    },
    {
      "cell_type": "code",
      "metadata": {
        "id": "q_v5KZjIjBWv",
        "colab_type": "code",
        "outputId": "ccffdefd-e902-42cf-a78e-1444810f83a9",
        "colab": {
          "base_uri": "https://localhost:8080/",
          "height": 50
        }
      },
      "source": [
        "# pop - last index item will be deleted\n",
        "li.pop()\n",
        "print(li)\n",
        "li.pop(1)\n",
        "print(li)"
      ],
      "execution_count": 0,
      "outputs": [
        {
          "output_type": "stream",
          "text": [
            "[1, 2, 3, 4, 5, 6]\n",
            "[1, 3, 4, 5, 6]\n"
          ],
          "name": "stdout"
        }
      ]
    },
    {
      "cell_type": "code",
      "metadata": {
        "id": "ISNiaGLNjk50",
        "colab_type": "code",
        "outputId": "0daab9cf-6a71-47d5-d0a2-2eea5f0a11ed",
        "colab": {
          "base_uri": "https://localhost:8080/",
          "height": 50
        }
      },
      "source": [
        "# function to return large number from list\n",
        "def largenumber(li):\n",
        "  li.sort()\n",
        "  return li[-1]\n",
        "def genericlarge(li,n):\n",
        "  li.sort()\n",
        "  return li[-n]\n",
        "li=[19,1,3,87,32,21,36]\n",
        "print(largenumber(li))\n",
        "print(genericlarge(li,3))"
      ],
      "execution_count": 0,
      "outputs": [
        {
          "output_type": "stream",
          "text": [
            "87\n",
            "32\n"
          ],
          "name": "stdout"
        }
      ]
    },
    {
      "cell_type": "code",
      "metadata": {
        "id": "DcYVIVuAmO3u",
        "colab_type": "code",
        "outputId": "5ec7abd7-6630-4024-b7a6-550488896112",
        "colab": {
          "base_uri": "https://localhost:8080/",
          "height": 50
        }
      },
      "source": [
        "def small(li):\n",
        "  li.sort()\n",
        "  return li[0]\n",
        "def genericsmall(li,n):\n",
        "  li.sort()\n",
        "  return li[n-1]\n",
        "li=[19,1,3,87,32,21,36]\n",
        "print(small(li))\n",
        "print(genericsmall(li,2))  \n"
      ],
      "execution_count": 0,
      "outputs": [
        {
          "output_type": "stream",
          "text": [
            "1\n",
            "3\n"
          ],
          "name": "stdout"
        }
      ]
    },
    {
      "cell_type": "markdown",
      "metadata": {
        "id": "B8zSb3XDoZh-",
        "colab_type": "text"
      },
      "source": [
        "# Tuples\n",
        "- values separated by comma enclosed by paranthesis()\n",
        "- values cannot be changed i.e immutable\n",
        "# Difference between list and tuple\n",
        "- list can be modified\n",
        "- used to access means modify,add,delete,update\n",
        "- tuples cannot be modified\n",
        "- used to access data only"
      ]
    },
    {
      "cell_type": "code",
      "metadata": {
        "id": "a4GTQlLZpuq1",
        "colab_type": "code",
        "outputId": "a526ab48-2c4a-4bff-917d-dd42639050fe",
        "colab": {
          "base_uri": "https://localhost:8080/",
          "height": 50
        }
      },
      "source": [
        "t1=(1,2,3,4,5)\n",
        "print(t1)\n",
        "print(type(t1))"
      ],
      "execution_count": 0,
      "outputs": [
        {
          "output_type": "stream",
          "text": [
            "(1, 2, 3, 4, 5)\n",
            "<class 'tuple'>\n"
          ],
          "name": "stdout"
        }
      ]
    },
    {
      "cell_type": "markdown",
      "metadata": {
        "id": "mh2RfVKPs4S3",
        "colab_type": "text"
      },
      "source": [
        "# Dictionaries:\n",
        "- This works on the concept of set unique data\n",
        "- This contains keys and values\n",
        "- each key is seperated from its values with colon ':'\n",
        "- each key and values seperated by comma ','\n",
        "- dictionary enclosed by {}\n"
      ]
    },
    {
      "cell_type": "code",
      "metadata": {
        "id": "nn3Ncep9t-sa",
        "colab_type": "code",
        "outputId": "e162c2cf-b9bd-4a4e-e893-51a5dda40bc6",
        "colab": {
          "base_uri": "https://localhost:8080/",
          "height": 34
        }
      },
      "source": [
        "d1={\"name\":\"gitam\",\"email\":\"gitam@gmail.com\",\"address\":\"hyderabad\"}\n",
        "print(d1)"
      ],
      "execution_count": 0,
      "outputs": [
        {
          "output_type": "stream",
          "text": [
            "{'name': 'gitam', 'email': 'gitam@gmail.com', 'address': 'hyderabad'}\n"
          ],
          "name": "stdout"
        }
      ]
    },
    {
      "cell_type": "code",
      "metadata": {
        "id": "yIB24hJyuSxG",
        "colab_type": "code",
        "outputId": "3f0891f1-c21b-4380-b9c4-48804bb2aa3b",
        "colab": {
          "base_uri": "https://localhost:8080/",
          "height": 34
        }
      },
      "source": [
        "d1[\"name\"]\n"
      ],
      "execution_count": 0,
      "outputs": [
        {
          "output_type": "execute_result",
          "data": {
            "text/plain": [
              "'gitam'"
            ]
          },
          "metadata": {
            "tags": []
          },
          "execution_count": 48
        }
      ]
    },
    {
      "cell_type": "code",
      "metadata": {
        "id": "R4yug0vtu7vn",
        "colab_type": "code",
        "outputId": "724fb2d4-c6f8-49a7-f5f7-b5d443115f26",
        "colab": {
          "base_uri": "https://localhost:8080/",
          "height": 34
        }
      },
      "source": [
        "d1={\"name\":\"gitam\",\"email\":\"gitam@gmail.com\",\"address\":\"hyderabad\"}\n",
        "d1[\"email\"]=\"python@gmail.com\"\n",
        "print(d1)"
      ],
      "execution_count": 0,
      "outputs": [
        {
          "output_type": "stream",
          "text": [
            "{'name': 'gitam', 'email': 'python@gmail.com', 'address': 'hyderabad'}\n"
          ],
          "name": "stdout"
        }
      ]
    },
    {
      "cell_type": "code",
      "metadata": {
        "id": "DHKRNUaNvsAX",
        "colab_type": "code",
        "outputId": "eb1944c6-88e3-4ad5-9f8b-42a432d7f4f5",
        "colab": {
          "base_uri": "https://localhost:8080/",
          "height": 34
        }
      },
      "source": [
        "# insertion\n",
        "d1[\"course\"]=\"python\"\n",
        "print(d1)"
      ],
      "execution_count": 0,
      "outputs": [
        {
          "output_type": "stream",
          "text": [
            "{'name': 'gitam', 'email': 'python@gmail.com', 'address': 'hyderabad', 'course': 'python'}\n"
          ],
          "name": "stdout"
        }
      ]
    },
    {
      "cell_type": "code",
      "metadata": {
        "id": "WgAYF7VAwKGV",
        "colab_type": "code",
        "outputId": "de94cdac-34db-4b2b-9c90-98498495dd3c",
        "colab": {
          "base_uri": "https://localhost:8080/",
          "height": 34
        }
      },
      "source": [
        "# deletion\n",
        "del d1[\"email\"]\n",
        "print(d1)"
      ],
      "execution_count": 0,
      "outputs": [
        {
          "output_type": "stream",
          "text": [
            "{'name': 'gitam', 'address': 'hyderabad', 'course': 'python'}\n"
          ],
          "name": "stdout"
        }
      ]
    },
    {
      "cell_type": "code",
      "metadata": {
        "id": "jq_2c8hIwXHF",
        "colab_type": "code",
        "colab": {
          "base_uri": "https://localhost:8080/",
          "height": 34
        },
        "outputId": "7b530a42-8a79-46a2-83d9-c68d5d43a12e"
      },
      "source": [
        "d1.keys()"
      ],
      "execution_count": 53,
      "outputs": [
        {
          "output_type": "execute_result",
          "data": {
            "text/plain": [
              "dict_keys(['name', 'address', 'course'])"
            ]
          },
          "metadata": {
            "tags": []
          },
          "execution_count": 53
        }
      ]
    },
    {
      "cell_type": "code",
      "metadata": {
        "id": "m5zISTQrzBFR",
        "colab_type": "code",
        "colab": {
          "base_uri": "https://localhost:8080/",
          "height": 34
        },
        "outputId": "250d1540-cb6c-43c0-efda-c4d3d3f87afd"
      },
      "source": [
        "d1.values()"
      ],
      "execution_count": 54,
      "outputs": [
        {
          "output_type": "execute_result",
          "data": {
            "text/plain": [
              "dict_values(['gitam', 'hyderabad', 'python'])"
            ]
          },
          "metadata": {
            "tags": []
          },
          "execution_count": 54
        }
      ]
    },
    {
      "cell_type": "code",
      "metadata": {
        "id": "IXr4RKDuzDWF",
        "colab_type": "code",
        "colab": {
          "base_uri": "https://localhost:8080/",
          "height": 34
        },
        "outputId": "b4355a25-9dcb-4653-cf15-4704478242c7"
      },
      "source": [
        "d1.items()"
      ],
      "execution_count": 55,
      "outputs": [
        {
          "output_type": "execute_result",
          "data": {
            "text/plain": [
              "dict_items([('name', 'gitam'), ('address', 'hyderabad'), ('course', 'python')])"
            ]
          },
          "metadata": {
            "tags": []
          },
          "execution_count": 55
        }
      ]
    },
    {
      "cell_type": "markdown",
      "metadata": {
        "id": "9pAbg-6dzeq_",
        "colab_type": "text"
      },
      "source": [
        "# Strings:"
      ]
    },
    {
      "cell_type": "code",
      "metadata": {
        "id": "aZBGSmK_zmT_",
        "colab_type": "code",
        "colab": {
          "base_uri": "https://localhost:8080/",
          "height": 50
        },
        "outputId": "9369b084-b1be-4ded-ed64-f1a1c284e158"
      },
      "source": [
        "s1=\"python\"\n",
        "print(s1)\n",
        "print(type(s1))"
      ],
      "execution_count": 56,
      "outputs": [
        {
          "output_type": "stream",
          "text": [
            "python\n",
            "<class 'str'>\n"
          ],
          "name": "stdout"
        }
      ]
    },
    {
      "cell_type": "code",
      "metadata": {
        "id": "51Ze9thZzxI0",
        "colab_type": "code",
        "colab": {
          "base_uri": "https://localhost:8080/",
          "height": 151
        },
        "outputId": "56b749d8-84ee-4f26-c123-ef7a823c9d1f"
      },
      "source": [
        "s1=\"python\"\n",
        "print(s1[0])\n",
        "print(s1[5])\n",
        "print(s1[1:4])\n",
        "print(s1[::-1])\n",
        "print(s1[2:])\n",
        "print(s1[-1::-1])\n",
        "print(s1[len(s1)//2])\n",
        "print(s1[0:6:2]) # 2 is increment"
      ],
      "execution_count": 64,
      "outputs": [
        {
          "output_type": "stream",
          "text": [
            "p\n",
            "n\n",
            "yth\n",
            "nohtyp\n",
            "thon\n",
            "nohtyp\n",
            "h\n",
            "pto\n"
          ],
          "name": "stdout"
        }
      ]
    },
    {
      "cell_type": "code",
      "metadata": {
        "id": "ucDWJr2Vz-_l",
        "colab_type": "code",
        "colab": {
          "base_uri": "https://localhost:8080/",
          "height": 34
        },
        "outputId": "5382936f-909d-4e41-fa6f-9a9608d7bbb2"
      },
      "source": [
        "# using functions reverwse of string\n",
        "def reverse(str):\n",
        "  rev=0\n",
        "  rev=str[::-1]\n",
        "  return rev  \n",
        "reverse(\"program\")"
      ],
      "execution_count": 65,
      "outputs": [
        {
          "output_type": "execute_result",
          "data": {
            "text/plain": [
              "'margorp'"
            ]
          },
          "metadata": {
            "tags": []
          },
          "execution_count": 65
        }
      ]
    },
    {
      "cell_type": "code",
      "metadata": {
        "id": "Y8EdraE62DLi",
        "colab_type": "code",
        "colab": {
          "base_uri": "https://localhost:8080/",
          "height": 34
        },
        "outputId": "c979a18a-3f6a-499c-b684-02dc0f44ea16"
      },
      "source": [
        "# palindrome string\n",
        "def reverse(str):\n",
        "  rev=0\n",
        "  temp=str\n",
        "  rev=str[::-1]\n",
        "  if(temp==rev):\n",
        "    print(\"palin\")\n",
        "  else:\n",
        "    print(\"no\")\n",
        "reverse(\"madam\")      "
      ],
      "execution_count": 68,
      "outputs": [
        {
          "output_type": "stream",
          "text": [
            "palin\n"
          ],
          "name": "stdout"
        }
      ]
    },
    {
      "cell_type": "markdown",
      "metadata": {
        "id": "ZC_sk0jH52u-",
        "colab_type": "text"
      },
      "source": [
        "# String built-in methods\n",
        "- upper()\n",
        "- lower()\n",
        "- islower()\n",
        "- isupper()\n",
        "- istitle()\n",
        "- isnumeric()\n",
        "- isalpha()\n",
        "- isspace()\n",
        "- isdigit()"
      ]
    },
    {
      "cell_type": "code",
      "metadata": {
        "id": "8BDUk-Xv6ZVF",
        "colab_type": "code",
        "colab": {
          "base_uri": "https://localhost:8080/",
          "height": 118
        },
        "outputId": "1d0bd548-d4e0-405e-c69d-fcb9635cc48b"
      },
      "source": [
        "s1=\"Kalyanakanksha\"\n",
        "print(s1.upper())\n",
        "print(s1.islower())\n",
        "print(s1.isdigit())\n",
        "print(s1.istitle()) # starting letter is capital then it is heading\n",
        "print(s1.isalpha())\n",
        "print(s1.isspace())"
      ],
      "execution_count": 76,
      "outputs": [
        {
          "output_type": "stream",
          "text": [
            "KALYANAKANKSHA\n",
            "False\n",
            "False\n",
            "True\n",
            "True\n",
            "False\n"
          ],
          "name": "stdout"
        }
      ]
    },
    {
      "cell_type": "code",
      "metadata": {
        "id": "MiLy518Y6wjH",
        "colab_type": "code",
        "colab": {
          "base_uri": "https://localhost:8080/",
          "height": 34
        },
        "outputId": "28642d69-210e-4d09-84e2-6ce96aba417f"
      },
      "source": [
        "s2=\" \"\n",
        "print(s2.isspace())"
      ],
      "execution_count": 83,
      "outputs": [
        {
          "output_type": "stream",
          "text": [
            "True\n"
          ],
          "name": "stdout"
        }
      ]
    },
    {
      "cell_type": "markdown",
      "metadata": {
        "id": "nbmArhYy-CiH",
        "colab_type": "text"
      },
      "source": [
        "# String Methods\n",
        "- join() -- \n",
        "- split() --\n",
        "- replace() --"
      ]
    },
    {
      "cell_type": "code",
      "metadata": {
        "id": "dSo157ys-pdH",
        "colab_type": "code",
        "colab": {
          "base_uri": "https://localhost:8080/",
          "height": 50
        },
        "outputId": "2b038dc9-ab47-4260-f916-599670079606"
      },
      "source": [
        "s1=\"python\"\n",
        "print(\",\".join(s1))\n",
        "s2=\"kalyan is topper\"\n",
        "print(\",\".join(s2))"
      ],
      "execution_count": 95,
      "outputs": [
        {
          "output_type": "stream",
          "text": [
            "p,y,t,h,o,n\n",
            "k,a,l,y,a,n, ,i,s, ,t,o,p,p,e,r\n"
          ],
          "name": "stdout"
        }
      ]
    },
    {
      "cell_type": "code",
      "metadata": {
        "id": "FJikzFe3-xG1",
        "colab_type": "code",
        "colab": {
          "base_uri": "https://localhost:8080/",
          "height": 50
        },
        "outputId": "5c1e03cb-fffb-4211-e33c-7445d686ac99"
      },
      "source": [
        "print(s2.split())\n",
        "print(s2.split(\"a\"))"
      ],
      "execution_count": 96,
      "outputs": [
        {
          "output_type": "stream",
          "text": [
            "['kalyan', 'is', 'topper']\n",
            "['k', 'ly', 'n is topper']\n"
          ],
          "name": "stdout"
        }
      ]
    },
    {
      "cell_type": "code",
      "metadata": {
        "id": "dbZHwxhb_R3U",
        "colab_type": "code",
        "colab": {
          "base_uri": "https://localhost:8080/",
          "height": 487
        },
        "outputId": "b766b806-4923-46e1-e8d4-b0af99fb1ffa"
      },
      "source": [
        "s1=\"python is a easy programming\"\n",
        "li=list(s1)\n",
        "li"
      ],
      "execution_count": 98,
      "outputs": [
        {
          "output_type": "execute_result",
          "data": {
            "text/plain": [
              "['p',\n",
              " 'y',\n",
              " 't',\n",
              " 'h',\n",
              " 'o',\n",
              " 'n',\n",
              " ' ',\n",
              " 'i',\n",
              " 's',\n",
              " ' ',\n",
              " 'a',\n",
              " ' ',\n",
              " 'e',\n",
              " 'a',\n",
              " 's',\n",
              " 'y',\n",
              " ' ',\n",
              " 'p',\n",
              " 'r',\n",
              " 'o',\n",
              " 'g',\n",
              " 'r',\n",
              " 'a',\n",
              " 'm',\n",
              " 'm',\n",
              " 'i',\n",
              " 'n',\n",
              " 'g']"
            ]
          },
          "metadata": {
            "tags": []
          },
          "execution_count": 98
        }
      ]
    },
    {
      "cell_type": "code",
      "metadata": {
        "id": "x0VVjXVm_8yU",
        "colab_type": "code",
        "colab": {
          "base_uri": "https://localhost:8080/",
          "height": 34
        },
        "outputId": "23907890-3908-4bcf-fb13-421b39513116"
      },
      "source": [
        "s1=\"python is a easy programming\"\n",
        "print(s1.replace(\"easy\",\"very easy\"))"
      ],
      "execution_count": 100,
      "outputs": [
        {
          "output_type": "stream",
          "text": [
            "python is a very easy programming\n"
          ],
          "name": "stdout"
        }
      ]
    },
    {
      "cell_type": "code",
      "metadata": {
        "id": "TBEZPoUpAY81",
        "colab_type": "code",
        "colab": {
          "base_uri": "https://localhost:8080/",
          "height": 84
        },
        "outputId": "5ceda32f-c14c-4028-c72d-faedc9a9052b"
      },
      "source": [
        "marks={\"peter\":[80,85,90],\"joe\":[86,90,95]}\n",
        "s1=(marks[\"peter\"])\n",
        "print(s1)\n",
        "print(s1[1])\n",
        "s2=(marks[\"joe\"])\n",
        "print(s2[0])\n",
        "s2=s2[::-1]\n",
        "print(s2)\n"
      ],
      "execution_count": 133,
      "outputs": [
        {
          "output_type": "stream",
          "text": [
            "[80, 85, 90]\n",
            "85\n",
            "86\n",
            "[95, 90, 86]\n"
          ],
          "name": "stdout"
        }
      ]
    },
    {
      "cell_type": "code",
      "metadata": {
        "id": "YuIA0mRqF0K0",
        "colab_type": "code",
        "colab": {}
      },
      "source": [
        ""
      ],
      "execution_count": 0,
      "outputs": []
    }
  ]
}