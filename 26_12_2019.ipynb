{
  "nbformat": 4,
  "nbformat_minor": 0,
  "metadata": {
    "colab": {
      "name": "26-12-2019.ipynb",
      "provenance": [],
      "include_colab_link": true
    },
    "kernelspec": {
      "name": "python3",
      "display_name": "Python 3"
    }
  },
  "cells": [
    {
      "cell_type": "markdown",
      "metadata": {
        "id": "view-in-github",
        "colab_type": "text"
      },
      "source": [
        "<a href=\"https://colab.research.google.com/github/sivasai1412/Python/blob/master/26_12_2019.ipynb\" target=\"_parent\"><img src=\"https://colab.research.google.com/assets/colab-badge.svg\" alt=\"Open In Colab\"/></a>"
      ]
    },
    {
      "cell_type": "markdown",
      "metadata": {
        "id": "q83WI_rGXD5E",
        "colab_type": "text"
      },
      "source": [
        "## Find the large number from given 3 numbers\n"
      ]
    },
    {
      "cell_type": "code",
      "metadata": {
        "id": "WlJQkzfYVuAV",
        "colab_type": "code",
        "colab": {
          "base_uri": "https://localhost:8080/",
          "height": 84
        },
        "outputId": "6c677706-4d2f-48b7-9b0f-befe6d7ef399"
      },
      "source": [
        "x=int(input(\"enter the x value\"))\n",
        "y=int(input(\"enter the y value\"))\n",
        "z=int(input(\"enter the z value\"))\n",
        "if x>y and x>z:\n",
        "  print(x,\"is greater\")\n",
        "elif y>z and y>x:\n",
        "  print(y,\" is greater\")\n",
        "else:\n",
        "  print(z,\" is greater\")"
      ],
      "execution_count": 3,
      "outputs": [
        {
          "output_type": "stream",
          "text": [
            "enter the x value2\n",
            "enter the y value3\n",
            "enter the z value1\n",
            "3  is greater\n"
          ],
          "name": "stdout"
        }
      ]
    },
    {
      "cell_type": "markdown",
      "metadata": {
        "id": "kKpkyZkTY0A7",
        "colab_type": "text"
      },
      "source": [
        "# While Statements:\n",
        "### Syntax:\n",
        "        while Boolean_condition: <br>\n",
        "            statements <br>\n",
        "            increment / decrement <br>"
      ]
    },
    {
      "cell_type": "code",
      "metadata": {
        "id": "bTBilv4iZZZ6",
        "colab_type": "code",
        "colab": {
          "base_uri": "https://localhost:8080/",
          "height": 101
        },
        "outputId": "5d4d260c-5918-4449-b395-a07db74dac4d"
      },
      "source": [
        "x=1\n",
        "while x<=5:\n",
        "  print(\"gitam\")\n",
        "  x=x+1"
      ],
      "execution_count": 4,
      "outputs": [
        {
          "output_type": "stream",
          "text": [
            "gitam\n",
            "gitam\n",
            "gitam\n",
            "gitam\n",
            "gitam\n"
          ],
          "name": "stdout"
        }
      ]
    },
    {
      "cell_type": "markdown",
      "metadata": {
        "id": "IJPFXEicc5yk",
        "colab_type": "text"
      },
      "source": [
        "## print n natural number using while loop\n"
      ]
    },
    {
      "cell_type": "code",
      "metadata": {
        "id": "pd2AegPkahn2",
        "colab_type": "code",
        "colab": {
          "base_uri": "https://localhost:8080/",
          "height": 50
        },
        "outputId": "7c12c5bc-d467-45de-ca9a-1b4ae170cac9"
      },
      "source": [
        "n=int(input(\"enter n value\"))\n",
        "x=1\n",
        "while x<=n:\n",
        "  print(x,end=\"  \")\n",
        "  x=x+1"
      ],
      "execution_count": 9,
      "outputs": [
        {
          "output_type": "stream",
          "text": [
            "enter n value10\n",
            "1  2  3  4  5  6  7  8  9  10  "
          ],
          "name": "stdout"
        }
      ]
    },
    {
      "cell_type": "code",
      "metadata": {
        "id": "Q0KPBWN_b6Y7",
        "colab_type": "code",
        "colab": {
          "base_uri": "https://localhost:8080/",
          "height": 50
        },
        "outputId": "94a2d2ad-4759-439c-ff84-57ffa4bbe4b3"
      },
      "source": [
        "n=int(input(\"enter the n value\"))\n",
        "x=1\n",
        "sum=0\n",
        "while x<=n:\n",
        "  if x%2==0:\n",
        "    sum=sum+x\n",
        "  x=x+1  \n",
        "print(sum)  "
      ],
      "execution_count": 14,
      "outputs": [
        {
          "output_type": "stream",
          "text": [
            "enter the n value10\n",
            "30\n"
          ],
          "name": "stdout"
        }
      ]
    },
    {
      "cell_type": "code",
      "metadata": {
        "id": "XQVfvdTXjPrW",
        "colab_type": "code",
        "colab": {
          "base_uri": "https://localhost:8080/",
          "height": 50
        },
        "outputId": "54bd68ae-aec3-4750-a228-54ca587fd031"
      },
      "source": [
        "n=int(input(\"enter the value\"))\n",
        "while n>0:\n",
        "  r=n%10\n",
        "  print(r,end=\" \")\n",
        "  n=n//10"
      ],
      "execution_count": 27,
      "outputs": [
        {
          "output_type": "stream",
          "text": [
            "enter the value123\n",
            "3 2 1 "
          ],
          "name": "stdout"
        }
      ]
    },
    {
      "cell_type": "markdown",
      "metadata": {
        "id": "YD7Ik7K6jyxc",
        "colab_type": "text"
      },
      "source": [
        "# Functional programming\n",
        "- simple \n",
        "- easy read\n",
        "- lengthy program divides into sub programs"
      ]
    },
    {
      "cell_type": "markdown",
      "metadata": {
        "id": "gFzYZBs-kFAk",
        "colab_type": "text"
      },
      "source": [
        "## Syntax:\n",
        "##### def nameofthefunction( parameters ): \n",
        "         statements \n",
        "         return"
      ]
    },
    {
      "cell_type": "code",
      "metadata": {
        "id": "5g0ue7eEkZRk",
        "colab_type": "code",
        "colab": {
          "base_uri": "https://localhost:8080/",
          "height": 34
        },
        "outputId": "97386832-de84-43e0-db23-854ac25171cf"
      },
      "source": [
        "def addevendigit(n):\n",
        "  sum=0\n",
        "  while n>0:\n",
        "    r=n%10\n",
        "    if r%2==0:\n",
        "      sum=sum+r\n",
        "    n=n//10\n",
        "  return sum\n",
        "addevendigit(1234)     "
      ],
      "execution_count": 28,
      "outputs": [
        {
          "output_type": "execute_result",
          "data": {
            "text/plain": [
              "6"
            ]
          },
          "metadata": {
            "tags": []
          },
          "execution_count": 28
        }
      ]
    },
    {
      "cell_type": "code",
      "metadata": {
        "id": "igIAitGLpWUK",
        "colab_type": "code",
        "colab": {
          "base_uri": "https://localhost:8080/",
          "height": 34
        },
        "outputId": "c3ee370f-847a-4331-9d12-2d98717006c1"
      },
      "source": [
        "def revanumber(n):\n",
        "  while n>0:\n",
        "    r=n%10\n",
        "    print(r,end=\"\")\n",
        "    n=n//10\n",
        "revanumber(123)"
      ],
      "execution_count": 35,
      "outputs": [
        {
          "output_type": "stream",
          "text": [
            "321"
          ],
          "name": "stdout"
        }
      ]
    },
    {
      "cell_type": "code",
      "metadata": {
        "id": "DXaJ8O4vp9q4",
        "colab_type": "code",
        "colab": {
          "base_uri": "https://localhost:8080/",
          "height": 34
        },
        "outputId": "5629ea41-5998-4556-fb2f-26a18fbd32a8"
      },
      "source": [
        "def largedigit(n):\n",
        "  x=0\n",
        "  while n>0:\n",
        "    r=n%10\n",
        "    if r>x:\n",
        "      x=r\n",
        "    n=n//10\n",
        "  return x  \n",
        "    \n",
        "largedigit(19528)"
      ],
      "execution_count": 45,
      "outputs": [
        {
          "output_type": "execute_result",
          "data": {
            "text/plain": [
              "9"
            ]
          },
          "metadata": {
            "tags": []
          },
          "execution_count": 45
        }
      ]
    },
    {
      "cell_type": "code",
      "metadata": {
        "id": "bcrpFlqsrBy7",
        "colab_type": "code",
        "colab": {
          "base_uri": "https://localhost:8080/",
          "height": 50
        },
        "outputId": "957b9e7a-a3d6-401a-c098-74c3e405e620"
      },
      "source": [
        "def palin(n):\n",
        "  rev=0\n",
        "  y=n\n",
        "  while n>0:\n",
        "    r=n%10\n",
        "    rev=rev*10+r\n",
        "    n=n//10\n",
        "  if y==rev:\n",
        "    return \"yes\"\n",
        "  else:\n",
        "    return \"no\"\n",
        "print(palin(123))\n",
        "print(palin(121))      \n"
      ],
      "execution_count": 49,
      "outputs": [
        {
          "output_type": "stream",
          "text": [
            "no\n",
            "yes\n"
          ],
          "name": "stdout"
        }
      ]
    },
    {
      "cell_type": "code",
      "metadata": {
        "id": "Ff69yUDHw0E6",
        "colab_type": "code",
        "colab": {
          "base_uri": "https://localhost:8080/",
          "height": 185
        },
        "outputId": "1dc97fb7-dd7d-4d17-9180-2dec221f7b3a"
      },
      "source": [
        "def numbe(n):\n",
        "  for i in range(1,n+1):\n",
        "     print(i)\n",
        "numbe(10)"
      ],
      "execution_count": 62,
      "outputs": [
        {
          "output_type": "stream",
          "text": [
            "1\n",
            "2\n",
            "3\n",
            "4\n",
            "5\n",
            "6\n",
            "7\n",
            "8\n",
            "9\n",
            "10\n"
          ],
          "name": "stdout"
        }
      ]
    },
    {
      "cell_type": "code",
      "metadata": {
        "id": "nH2Tu7rayWoX",
        "colab_type": "code",
        "colab": {
          "base_uri": "https://localhost:8080/",
          "height": 168
        },
        "outputId": "421e9d12-bafc-44b8-e862-d7be6b983780"
      },
      "source": [
        "n=10\n",
        "for i in range(1,n):\n",
        "  print(i)"
      ],
      "execution_count": 58,
      "outputs": [
        {
          "output_type": "stream",
          "text": [
            "1\n",
            "2\n",
            "3\n",
            "4\n",
            "5\n",
            "6\n",
            "7\n",
            "8\n",
            "9\n"
          ],
          "name": "stdout"
        }
      ]
    },
    {
      "cell_type": "code",
      "metadata": {
        "id": "oRWJVvJ4y12K",
        "colab_type": "code",
        "colab": {
          "base_uri": "https://localhost:8080/",
          "height": 101
        },
        "outputId": "8a348e45-c0cc-4382-926a-97b173c65047"
      },
      "source": [
        "def nat(m,n):\n",
        "  for i in range(m,n+1):\n",
        "    print(i)\n",
        "nat(11,15)    "
      ],
      "execution_count": 63,
      "outputs": [
        {
          "output_type": "stream",
          "text": [
            "11\n",
            "12\n",
            "13\n",
            "14\n",
            "15\n"
          ],
          "name": "stdout"
        }
      ]
    },
    {
      "cell_type": "code",
      "metadata": {
        "id": "UVB1JLsq0hr9",
        "colab_type": "code",
        "colab": {
          "base_uri": "https://localhost:8080/",
          "height": 84
        },
        "outputId": "a0356795-897f-4d3e-f090-a34595f7cbc1"
      },
      "source": [
        "def palin(n):\n",
        "\n",
        "#n=int(input(\"enter n value\"))\n",
        "  temp=n\n",
        "  rev=0\n",
        "  while(n>0):\n",
        "      dig=n%10\n",
        "      rev=rev*10+dig\n",
        "      n=n//10\n",
        "  if(temp==rev):\n",
        "      print(\"The number is  palindrome\")\n",
        "  else:\n",
        "      print(\"The number not  palindrome\",rev,temp)\n",
        "      temp=temp+rev\n",
        "      print(temp)\n",
        "palin(705)\n",
        "palin(temp)\n",
        "\n",
        "\n",
        "\n"
      ],
      "execution_count": 76,
      "outputs": [
        {
          "output_type": "stream",
          "text": [
            "The number not  palindrome 507 705\n",
            "1212\n",
            "The number not  palindrome 708 807\n",
            "1515\n"
          ],
          "name": "stdout"
        }
      ]
    },
    {
      "cell_type": "code",
      "metadata": {
        "id": "vUvMjkVE2egK",
        "colab_type": "code",
        "colab": {}
      },
      "source": [
        ""
      ],
      "execution_count": 0,
      "outputs": []
    },
    {
      "cell_type": "markdown",
      "metadata": {
        "id": "p621RPjg5Wj9",
        "colab_type": "text"
      },
      "source": [
        "# List:\n",
        "- its one common data structure in python ,the items are separated by comma and enclosed by\n",
        "- crud operations\n",
        "* c-create\n",
        "* r-read\n",
        "* u-update\n",
        "* d-delete\n",
        "* list can be changed or immutable\n",
        "# example:\n",
        "- list =[1,2,3,4]\n"
      ]
    },
    {
      "cell_type": "code",
      "metadata": {
        "id": "bZe3nGwc5lcm",
        "colab_type": "code",
        "colab": {
          "base_uri": "https://localhost:8080/",
          "height": 101
        },
        "outputId": "59009a41-cb28-470b-fb9d-89dfd8ed3e25"
      },
      "source": [
        "def palin(n):\n",
        "  rev=0\n",
        "  y=n\n",
        "  while n>0:\n",
        "    r=n%10\n",
        "    rev=rev*10+r\n",
        "    n=n//10\n",
        "  if y==rev:\n",
        "    print(\"yes\")\n",
        "  else:\n",
        "    print(\"no\")\n",
        "    z=y\n",
        "    z=z+rev\n",
        "    n=z\n",
        "    print(n)\n",
        "print(palin(345))\n",
        "print(palin(n))\n",
        " "
      ],
      "execution_count": 96,
      "outputs": [
        {
          "output_type": "stream",
          "text": [
            "no\n",
            "888\n",
            "None\n",
            "yes\n",
            "None\n"
          ],
          "name": "stdout"
        }
      ]
    },
    {
      "cell_type": "code",
      "metadata": {
        "id": "uPspNpoa5yML",
        "colab_type": "code",
        "colab": {
          "base_uri": "https://localhost:8080/",
          "height": 67
        },
        "outputId": "94ef7dde-f850-49b8-cb44-7ffe69cc88dc"
      },
      "source": [
        "li=[1,2,3,4,5]\n",
        "print(li)\n",
        "print(li[0])\n",
        "print(li[-1])"
      ],
      "execution_count": 94,
      "outputs": [
        {
          "output_type": "stream",
          "text": [
            "[1, 2, 3, 4, 5]\n",
            "1\n",
            "5\n"
          ],
          "name": "stdout"
        }
      ]
    },
    {
      "cell_type": "code",
      "metadata": {
        "id": "3UPFtzRM9Fpm",
        "colab_type": "code",
        "colab": {}
      },
      "source": [
        ""
      ],
      "execution_count": 0,
      "outputs": []
    }
  ]
}